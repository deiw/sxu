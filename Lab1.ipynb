{
 "cells": [
  {
   "cell_type": "code",
   "execution_count": 25,
   "metadata": {},
   "outputs": [
    {
     "data": {
      "text/markdown": [
       "# Wstęp do uczenia maszynowego\n"
      ],
      "text/plain": [
       "<IPython.core.display.Markdown object>"
      ]
     },
     "metadata": {},
     "output_type": "display_data"
    }
   ],
   "source": [
    "%%markdown\n",
    "# Wstęp do uczenia maszynowego"
   ]
  },
  {
   "cell_type": "code",
   "execution_count": 26,
   "metadata": {},
   "outputs": [
    {
     "data": {
      "text/markdown": [
       "## Laboratorium 1.\n",
       "1) utwórz tablicę zawierającą 10 zer\\\n",
       "2) utwórz tablicę zawierającą 10 piątek\\\n",
       "3) utwórz tablicę zawierającą liczby od 10 do 50\\\n",
       "4) utwórz macierz (tablica wielowymiarowa) o wymiarach 3x3 zawierającą liczby od 0 do 8\\\n",
       "5) utwórz macierz jednostkową o wymiarach 3x3 \\\n",
       "6) utwórz macierz o wymiarach 5x5 zawierającą liczby z dystrybucji normalnej (Gaussa)\\\n",
       "7) utwórz macierz o wymiarach 10x10 zawierającą liczby od 0,01 do 1 z krokiem 0,01\\\n",
       "8) utwórz tablicę zawierającą 20 liniowo rozłożonych liczb między 0 a 1 (włącznie z 0 i 1)\\\n",
       "9) utwórz tablicę zawierającą losowe liczby z przedziału (1, 25), następnie zamień ją na macierz o wymiarach 5 x 5 z tymi samymi liczbami:\\\n",
       "&nbsp;&nbsp;9.1) oblicz sumę wszystkich liczb w ww. macierzy\\\n",
       "&nbsp;&nbsp;9.2) oblicz średnią wszystkich liczb w ww. macierzy\\\n",
       "&nbsp;&nbsp;9.3) oblicz standardową dewiację dla liczb w ww. macierzy\\\n",
       "&nbsp;&nbsp;9.4) oblicz sumę każdej kolumny ww. macierzy i zapisz ją do tablicy \\\n",
       "10) utwórz macierz o wymiarach 5x5 zawierającą losowe liczby z przedziału (0, 100):\\\n",
       "&nbsp;&nbsp;10.1) oblicz medianę tych liczb\\\n",
       "&nbsp;&nbsp;10.2) znajdź najmniejszą liczbę tej macierzy\\\n",
       "&nbsp;&nbsp;10.3) znajdź największą liczbę tej macierzy\\\n",
       "11) utwórz macierz o wymiarach różnych od siebie i większych od 1, zawierającą losowe liczby z przedziału (0, 100) i dokonaj jej transpozycji\\\n",
       "12) utwórz dwie macierze o odpowiednich wymiarach (doczytać), większych od 2 i dodaj je do siebie\\\n",
       "13) utwórz dwie macierze o odpowiednich wymiarach (doczytać) różnych od siebie i większych od 2, a następnie pomnóż je przez siebie za pomocą dwóch różnych funkcji (np. ‘matmul’ i ‘multiply’)\n"
      ],
      "text/plain": [
       "<IPython.core.display.Markdown object>"
      ]
     },
     "metadata": {},
     "output_type": "display_data"
    }
   ],
   "source": [
    "%%markdown\n",
    "## Laboratorium 1.\n",
    "1) utwórz tablicę zawierającą 10 zer\\\n",
    "2) utwórz tablicę zawierającą 10 piątek\\\n",
    "3) utwórz tablicę zawierającą liczby od 10 do 50\\\n",
    "4) utwórz macierz (tablica wielowymiarowa) o wymiarach 3x3 zawierającą liczby od 0 do 8\\\n",
    "5) utwórz macierz jednostkową o wymiarach 3x3 \\\n",
    "6) utwórz macierz o wymiarach 5x5 zawierającą liczby z dystrybucji normalnej (Gaussa)\\\n",
    "7) utwórz macierz o wymiarach 10x10 zawierającą liczby od 0,01 do 1 z krokiem 0,01\\\n",
    "8) utwórz tablicę zawierającą 20 liniowo rozłożonych liczb między 0 a 1 (włącznie z 0 i 1)\\\n",
    "9) utwórz tablicę zawierającą losowe liczby z przedziału (1, 25), następnie zamień ją na macierz o wymiarach 5 x 5 z tymi samymi liczbami:\\\n",
    "&nbsp;&nbsp;9.1) oblicz sumę wszystkich liczb w ww. macierzy\\\n",
    "&nbsp;&nbsp;9.2) oblicz średnią wszystkich liczb w ww. macierzy\\\n",
    "&nbsp;&nbsp;9.3) oblicz standardową dewiację dla liczb w ww. macierzy\\\n",
    "&nbsp;&nbsp;9.4) oblicz sumę każdej kolumny ww. macierzy i zapisz ją do tablicy \\\n",
    "10) utwórz macierz o wymiarach 5x5 zawierającą losowe liczby z przedziału (0, 100):\\\n",
    "&nbsp;&nbsp;10.1) oblicz medianę tych liczb\\\n",
    "&nbsp;&nbsp;10.2) znajdź najmniejszą liczbę tej macierzy\\\n",
    "&nbsp;&nbsp;10.3) znajdź największą liczbę tej macierzy\\\n",
    "11) utwórz macierz o wymiarach różnych od siebie i większych od 1, zawierającą losowe liczby z przedziału (0, 100) i dokonaj jej transpozycji\\\n",
    "12) utwórz dwie macierze o odpowiednich wymiarach (doczytać), większych od 2 i dodaj je do siebie\\\n",
    "13) utwórz dwie macierze o odpowiednich wymiarach (doczytać) różnych od siebie i większych od 2, a następnie pomnóż je przez siebie za pomocą dwóch różnych funkcji (np. ‘matmul’ i ‘multiply’)"
   ]
  },
  {
   "cell_type": "code",
   "execution_count": 27,
   "metadata": {},
   "outputs": [
    {
     "name": "stdout",
     "output_type": "stream",
     "text": [
      "1)\n",
      "[0. 0. 0. 0. 0. 0. 0. 0. 0. 0.]\n"
     ]
    }
   ],
   "source": [
    "import numpy as np\n",
    "print('1)')\n",
    "m=np.zeros(10)\n",
    "print(m)"
   ]
  },
  {
   "cell_type": "code",
   "execution_count": 28,
   "metadata": {},
   "outputs": [
    {
     "name": "stdout",
     "output_type": "stream",
     "text": [
      "2)\n",
      "[5 5 5 5 5 5 5 5 5 5]\n"
     ]
    }
   ],
   "source": [
    "print('2)')\n",
    "m=np.full(10,5)\n",
    "print(m)"
   ]
  },
  {
   "cell_type": "code",
   "execution_count": 29,
   "metadata": {},
   "outputs": [
    {
     "name": "stdout",
     "output_type": "stream",
     "text": [
      "3)\n",
      "[10 11 12 13 14 15 16 17 18 19 20 21 22 23 24 25 26 27 28 29 30 31 32 33\n",
      " 34 35 36 37 38 39 40 41 42 43 44 45 46 47 48 49]\n"
     ]
    }
   ],
   "source": [
    "print('3)')\n",
    "m=np.arange(10,50)\n",
    "print(m)"
   ]
  },
  {
   "cell_type": "code",
   "execution_count": 30,
   "metadata": {},
   "outputs": [
    {
     "name": "stdout",
     "output_type": "stream",
     "text": [
      "4)\n",
      "[[0 1 2]\n",
      " [3 4 5]\n",
      " [6 7 8]]\n"
     ]
    }
   ],
   "source": [
    "print('4)')\n",
    "m=np.arange(0,9).reshape(3,3)\n",
    "print(m)"
   ]
  },
  {
   "cell_type": "code",
   "execution_count": 31,
   "metadata": {},
   "outputs": [
    {
     "name": "stdout",
     "output_type": "stream",
     "text": [
      "5)\n",
      "[[1. 0. 0.]\n",
      " [0. 1. 0.]\n",
      " [0. 0. 1.]]\n"
     ]
    }
   ],
   "source": [
    "print('5)')\n",
    "m=np.eye(3,3)\n",
    "print(m)"
   ]
  },
  {
   "cell_type": "code",
   "execution_count": 32,
   "metadata": {},
   "outputs": [
    {
     "name": "stdout",
     "output_type": "stream",
     "text": [
      "6)\n",
      "[[ 0.77216512  0.03101491  0.33963927 -0.77015456  1.36978137]\n",
      " [-1.36054688 -0.53712672 -0.36319281 -0.01145843  0.55204301]\n",
      " [ 0.3808432  -1.63313332 -1.06780758  0.92635694 -1.1487619 ]\n",
      " [ 2.30587381 -2.05177389  1.64835481 -1.34469776 -0.42314463]\n",
      " [-2.20885951 -1.86856118 -1.88233787 -0.31842439  0.47070656]]\n"
     ]
    }
   ],
   "source": [
    "print('6)')\n",
    "m=np.random.normal(0,1,25).reshape(5,5)\n",
    "print(m)"
   ]
  },
  {
   "cell_type": "code",
   "execution_count": 33,
   "metadata": {},
   "outputs": [
    {
     "name": "stdout",
     "output_type": "stream",
     "text": [
      "7)\n",
      "[[0.   0.01 0.02 0.03 0.04 0.05 0.06 0.07 0.08 0.09]\n",
      " [0.1  0.11 0.12 0.13 0.14 0.15 0.16 0.17 0.18 0.19]\n",
      " [0.2  0.21 0.22 0.23 0.24 0.25 0.26 0.27 0.28 0.29]\n",
      " [0.3  0.31 0.32 0.33 0.34 0.35 0.36 0.37 0.38 0.39]\n",
      " [0.4  0.41 0.42 0.43 0.44 0.45 0.46 0.47 0.48 0.49]\n",
      " [0.5  0.51 0.52 0.53 0.54 0.55 0.56 0.57 0.58 0.59]\n",
      " [0.6  0.61 0.62 0.63 0.64 0.65 0.66 0.67 0.68 0.69]\n",
      " [0.7  0.71 0.72 0.73 0.74 0.75 0.76 0.77 0.78 0.79]\n",
      " [0.8  0.81 0.82 0.83 0.84 0.85 0.86 0.87 0.88 0.89]\n",
      " [0.9  0.91 0.92 0.93 0.94 0.95 0.96 0.97 0.98 0.99]]\n"
     ]
    }
   ],
   "source": [
    "print('7)')\n",
    "m=np.arange(0.00,1,0.01).reshape(10,10)\n",
    "print(m)"
   ]
  },
  {
   "cell_type": "code",
   "execution_count": 34,
   "metadata": {},
   "outputs": [
    {
     "name": "stdout",
     "output_type": "stream",
     "text": [
      "8)\n",
      "[0.   0.05 0.1  0.15 0.2  0.25 0.3  0.35 0.4  0.45 0.5  0.55 0.6  0.65\n",
      " 0.7  0.75 0.8  0.85 0.9  0.95]\n"
     ]
    }
   ],
   "source": [
    "print('8)')\n",
    "m=np.arange(0,1.0,1/20)\n",
    "print(m)"
   ]
  },
  {
   "cell_type": "markdown",
   "metadata": {},
   "source": [
    "print('9)')\n",
    "m=np.random.uniform(1,25,25).reshape(5,5)\n",
    "print(i)\n",
    "print('9.1)\\n')\n",
    "print(np.sum(m))\n",
    "print('9.2)\\n')\n",
    "print(np.average(m))\n",
    "print('9.3)\\n')\n",
    "print(np.std(m))\n",
    "print('9.4)\\n')\n",
    "print(np.sum(i,axis=1))"
   ]
  },
  {
   "cell_type": "code",
   "execution_count": 35,
   "metadata": {},
   "outputs": [
    {
     "name": "stdout",
     "output_type": "stream",
     "text": [
      "9)\n",
      "[[17.01955448 73.05199713 37.85976829 58.72283075 60.4345757 ]\n",
      " [18.72473397 20.81384279 61.14394445 48.1507547  41.62921397]\n",
      " [ 8.94956905  3.73725406 24.33835288 30.68878771  6.06781206]\n",
      " [ 1.51494561 43.53542087 73.41502773 90.11012744 10.86750258]\n",
      " [82.90475275 53.87590635 22.00931427 26.08099218 94.9641632 ]]\n",
      "9.1)\n",
      "\n",
      "37.85976829486516\n",
      "9.2)\n",
      "\n",
      "1.5149456129518568\n",
      "9.3\n",
      "\n",
      "94.96416319524091\n"
     ]
    }
   ],
   "source": [
    "print('9)')\n",
    "m=np.random.uniform(0,100,25).reshape(5,5)\n",
    "print(m)\n",
    "print('9.1)\\n')\n",
    "print(np.median(m))\n",
    "print('9.2)\\n')\n",
    "print(np.min(m))\n",
    "print('9.3\\n')\n",
    "print(np.max(m))"
   ]
  },
  {
   "cell_type": "code",
   "execution_count": 36,
   "metadata": {},
   "outputs": [
    {
     "name": "stdout",
     "output_type": "stream",
     "text": [
      "10)\n",
      "[[ 3.56363447 73.85346811 89.37174552 57.87243995]\n",
      " [70.49509356 74.64484409 59.20537078 90.6028677 ]\n",
      " [89.13966667 98.42162485 91.35651184 73.02886099]\n",
      " [ 6.95812428 43.81086377  5.63876231 41.98638933]\n",
      " [35.59132821 54.77775889 86.59102975 92.93957989]]\n",
      "\n",
      "\n",
      "[[ 3.56363447 70.49509356 89.13966667  6.95812428 35.59132821]\n",
      " [73.85346811 74.64484409 98.42162485 43.81086377 54.77775889]\n",
      " [89.37174552 59.20537078 91.35651184  5.63876231 86.59102975]\n",
      " [57.87243995 90.6028677  73.02886099 41.98638933 92.93957989]]\n"
     ]
    }
   ],
   "source": [
    "print('10)')\n",
    "k=np.random.uniform(0,100,20).reshape(5,4)\n",
    "print(k)\n",
    "print('\\n')\n",
    "k=np.transpose(k)\n",
    "print(k)"
   ]
  },
  {
   "cell_type": "code",
   "execution_count": 37,
   "metadata": {},
   "outputs": [
    {
     "name": "stdout",
     "output_type": "stream",
     "text": [
      "11)\n",
      "[[89.47819305 61.03378164 41.7591305  14.99695721 91.28708059]\n",
      " [28.06402778 41.37060416 30.71088799 25.25919621 80.59879564]\n",
      " [10.07152784 55.12286265 61.25239833 37.4213735  46.60652382]\n",
      " [60.021831   27.26654404 96.27610273 88.32483841 89.04072246]\n",
      " [ 5.28217575 96.53053142 90.14651148 73.77084424 37.36910279]]\n",
      "\n",
      "\n",
      "[[87.32521253 49.72659496 74.66003529 36.80226861 85.86580175]\n",
      " [15.95490863 57.98557008 49.72592229 40.54120273 10.42433312]\n",
      " [55.69913267 99.56106288 38.05616909 82.26498652 81.98010959]\n",
      " [ 3.63101471 80.27606876 29.06984631 25.12981716 53.65139268]\n",
      " [45.43064405 84.75263511 36.34752544 55.31752199 17.61028771]]\n",
      "\n",
      "\n",
      "[[176.80340559 110.7603766  116.41916578  51.79922582 177.15288234]\n",
      " [ 44.01893642  99.35617424  80.43681028  65.80039894  91.02312876]\n",
      " [ 65.77066052 154.68392553  99.30856742 119.68636001 128.58663342]\n",
      " [ 63.65284571 107.54261281 125.34594904 113.45465557 142.69211514]\n",
      " [ 50.7128198  181.28316653 126.49403693 129.08836623  54.9793905 ]]\n"
     ]
    }
   ],
   "source": [
    "print('11)')\n",
    "l=np.random.uniform(0,100,25).reshape(5,5)\n",
    "m=np.random.uniform(0,100,25).reshape(5,5)\n",
    "print(l)\n",
    "print('\\n')\n",
    "print(m)\n",
    "n=np.add(l,m)\n",
    "print('\\n')\n",
    "print(n)"
   ]
  },
  {
   "cell_type": "code",
   "execution_count": 38,
   "metadata": {},
   "outputs": [
    {
     "name": "stdout",
     "output_type": "stream",
     "text": [
      "12)\n",
      "[[70.44602046 64.02522023 17.98407127 29.69166184 74.9513113 ]\n",
      " [74.53427593 67.48015862 57.04130583 73.99201105 64.63396316]]\n",
      "\n",
      "\n",
      "[[ 4.28360272 32.35221989]\n",
      " [16.7439558  12.07050962]\n",
      " [87.50230845 42.56905004]\n",
      " [99.33185887 35.48183608]\n",
      " [58.84172768  0.41276497]]\n",
      "\n",
      "\n",
      "[[10307.03858604  4901.91896456]\n",
      " [17593.34401544  8306.114433  ]]\n",
      "\n",
      "\n",
      "[[ 12.85080817  97.05665967]\n",
      " [ 50.23186739  36.21152885]\n",
      " [262.50692536 127.70715012]\n",
      " [297.99557662 106.44550824]\n",
      " [176.52518304   1.2382949 ]]\n"
     ]
    }
   ],
   "source": [
    "print('12)')\n",
    "o=np.random.uniform(0,100,10).reshape(2,5)\n",
    "print(o)\n",
    "print('\\n')\n",
    "p=np.random.uniform(0,100,10).reshape(5,2)\n",
    "print(p)\n",
    "print('\\n')\n",
    "q=np.matmul(o,p)\n",
    "print(q)\n",
    "print('\\n')\n",
    "r=np.multiply(p,3)\n",
    "print(r)"
   ]
  },
  {
   "cell_type": "code",
   "execution_count": null,
   "metadata": {
    "scrolled": false
   },
   "outputs": [],
   "source": []
  },
  {
   "cell_type": "code",
   "execution_count": null,
   "metadata": {},
   "outputs": [],
   "source": []
  },
  {
   "cell_type": "code",
   "execution_count": null,
   "metadata": {},
   "outputs": [],
   "source": []
  },
  {
   "cell_type": "code",
   "execution_count": null,
   "metadata": {},
   "outputs": [],
   "source": []
  },
  {
   "cell_type": "code",
   "execution_count": null,
   "metadata": {},
   "outputs": [],
   "source": []
  },
  {
   "cell_type": "code",
   "execution_count": null,
   "metadata": {},
   "outputs": [],
   "source": []
  },
  {
   "cell_type": "code",
   "execution_count": null,
   "metadata": {},
   "outputs": [],
   "source": []
  },
  {
   "cell_type": "code",
   "execution_count": null,
   "metadata": {},
   "outputs": [],
   "source": []
  },
  {
   "cell_type": "code",
   "execution_count": null,
   "metadata": {},
   "outputs": [],
   "source": []
  },
  {
   "cell_type": "code",
   "execution_count": null,
   "metadata": {},
   "outputs": [],
   "source": []
  },
  {
   "cell_type": "code",
   "execution_count": null,
   "metadata": {},
   "outputs": [],
   "source": [
    "\n",
    "    "
   ]
  },
  {
   "cell_type": "code",
   "execution_count": null,
   "metadata": {},
   "outputs": [],
   "source": []
  },
  {
   "cell_type": "code",
   "execution_count": null,
   "metadata": {},
   "outputs": [],
   "source": []
  }
 ],
 "metadata": {
  "kernelspec": {
   "display_name": "Python 3",
   "language": "python",
   "name": "python3"
  },
  "language_info": {
   "codemirror_mode": {
    "name": "ipython",
    "version": 3
   },
   "file_extension": ".py",
   "mimetype": "text/x-python",
   "name": "python",
   "nbconvert_exporter": "python",
   "pygments_lexer": "ipython3",
   "version": "3.7.3"
  }
 },
 "nbformat": 4,
 "nbformat_minor": 2
}
